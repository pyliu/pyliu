{
  "nbformat": 4,
  "nbformat_minor": 0,
  "metadata": {
    "colab": {
      "name": "20210907.ipynb",
      "provenance": [],
      "collapsed_sections": [],
      "mount_file_id": "1k3ZTThMF6FQuF4-EZUbW-0gSoNeimqkd",
      "authorship_tag": "ABX9TyMYLuISmUNkYrWXnfgVXkmL",
      "include_colab_link": true
    },
    "kernelspec": {
      "name": "python3",
      "display_name": "Python 3"
    },
    "language_info": {
      "name": "python"
    }
  },
  "cells": [
    {
      "cell_type": "markdown",
      "metadata": {
        "id": "view-in-github",
        "colab_type": "text"
      },
      "source": [
        "<a href=\"https://colab.research.google.com/github/pyliu/pyliu/blob/main/20210907.ipynb\" target=\"_parent\"><img src=\"https://colab.research.google.com/assets/colab-badge.svg\" alt=\"Open In Colab\"/></a>"
      ]
    },
    {
      "cell_type": "code",
      "metadata": {
        "id": "3K6Wpq0I8dZE"
      },
      "source": [
        "import pandas as pd\n",
        "data_url = 'http://bit.ly/2cLzoxH'\n",
        "gap1 = pd.read_csv(data_url)\n",
        "print(gap1.head(1))\n",
        "\n",
        "變數1 = \"\"\"這是多行\n",
        "這是第二行\"\"\"\n",
        "print(變數1, sep='===', end='\\n\\n')\n",
        "\n",
        "a,b,c = 4,5,5\n",
        "d,f = 2.44, 3.55\n",
        "\n",
        "print(a**b)\n",
        "# 輸出格式化\n",
        "print(\"%5d\" %(c//b))\n",
        "print(c/b)\n",
        "\n",
        "# 變數互換\n",
        "a, b = 20, 'PYTHON'\n",
        "print(a, b)\n",
        "a, b = b, a\n",
        "print(a, b)\n",
        "\n",
        "# if (a == b):\n",
        "if (a is not b):\n",
        "  print('TRUE')\n",
        "else:\n",
        "  print('FALSE')\n",
        "# tuple, list, range are all OK\n",
        "for i in (1,3,5,7,9):\n",
        "  print(i)\n",
        "\n",
        "\n"
      ],
      "execution_count": null,
      "outputs": []
    },
    {
      "cell_type": "markdown",
      "metadata": {
        "id": "mbBtWc3vatmc"
      },
      "source": [
        "## 溫度轉換"
      ]
    },
    {
      "cell_type": "code",
      "metadata": {
        "id": "b8yV-D9DawNz"
      },
      "source": [
        "# 輸入溫度轉換\n",
        "c = float(input('輸入攝氏溫度：'))\n",
        "f = 9 / 5 * c + 32\n",
        "print(\"華氏 %.2f 度\" %(f))"
      ],
      "execution_count": null,
      "outputs": []
    },
    {
      "cell_type": "markdown",
      "metadata": {
        "id": "R_4nTtp6aYeC"
      },
      "source": [
        "## 99乘法表"
      ]
    },
    {
      "cell_type": "code",
      "metadata": {
        "id": "J--X_ZOLaXea"
      },
      "source": [
        "# 9x9\n",
        "for i in range(1, 10):\n",
        "  for y in range(1, 10):\n",
        "    print(i, 'x', y, ':', i*y)"
      ],
      "execution_count": null,
      "outputs": []
    },
    {
      "cell_type": "markdown",
      "metadata": {
        "id": "p7dBp3UfaQb1"
      },
      "source": [
        "## 費伯納西數列"
      ]
    },
    {
      "cell_type": "code",
      "metadata": {
        "id": "81M_K669WPfj"
      },
      "source": [
        "# fibonacci Sequence\n",
        "howmany = int(input(\"多少個數字 for 費伯納西數列?\"))\n",
        "# 初始數值\n",
        "n1, n2 = 1, 1\n",
        "count = 0\n",
        "print(\"費伯納西數列:\")\n",
        "while count < howmany:\n",
        "  count += 1\n",
        "  print(n1)\n",
        "  n3 = n1 + n2\n",
        "  # 往前推進\n",
        "  n1 = n2\n",
        "  n2 = n3"
      ],
      "execution_count": null,
      "outputs": []
    },
    {
      "cell_type": "markdown",
      "metadata": {
        "id": "2kdXwiU3ab-y"
      },
      "source": [
        "## BMI計算"
      ]
    },
    {
      "cell_type": "code",
      "metadata": {
        "colab": {
          "base_uri": "https://localhost:8080/"
        },
        "id": "hRaRHASqafhP",
        "outputId": "71128f9b-f1a5-4724-d54d-b61a60b24f4a"
      },
      "source": [
        "height = input('輸入身高(公分): ')\n",
        "weight = input('輸入體重(公斤): ')\n",
        "mHeight = (float(height) / 100)**2\n",
        "BMI = float(weight) / mHeight\n",
        "JUDGE = '太輕'\n",
        "if (BMI > 30):\n",
        "  JUDGE = '肥胖'\n",
        "elif (BMI > 25):\n",
        "  JUDGE = '過重'\n",
        "elif (BMI > 18.5):\n",
        "  JUDGE = '正常'\n",
        "print('BMI：%.2f' %(BMI), '判定：', JUDGE)"
      ],
      "execution_count": 24,
      "outputs": [
        {
          "output_type": "stream",
          "name": "stdout",
          "text": [
            "輸入身高(公分): 167\n",
            "輸入體重(公斤): 68\n",
            "BMI：24.38 判定： 正常\n"
          ]
        }
      ]
    }
  ]
}